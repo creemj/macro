{
 "cells": [
  {
   "cell_type": "code",
   "execution_count": 1,
   "metadata": {
    "collapsed": true
   },
   "outputs": [],
   "source": [
    "import numpy as np\n",
    "import matplotlib.pyplot as plt\n",
    " "
   ]
  },
  {
   "cell_type": "code",
   "execution_count": 2,
   "metadata": {
    "collapsed": true
   },
   "outputs": [],
   "source": [
    "#Fixed variables\n",
    "OBS=1000\n",
    "\n"
   ]
  },
  {
   "cell_type": "code",
   "execution_count": 3,
   "metadata": {
    "collapsed": false
   },
   "outputs": [],
   "source": [
    "#Current Labor Supply\n",
    "#N=sum(n=(h-l)) where h=total time and l=time spent on leisure\n",
    "#N=(w*X)+(r,p_ie)\n",
    "#w=((N-(r,p_ie))/X)\n",
    "r=.02\n",
    "r_2=0.2\n",
    "p_ie=1\n",
    "p_ie_2=10\n",
    "\n",
    "\n",
    "N=np.random.rand(OBS)\n",
    "Z=np.random.rand(OBS)\n",
    "X=(N/2)\n",
    "w_1=(X**2)\n",
    "w_2=(((X+(1+r)-p_ie)**2))\n",
    "w_3=(((X+(1+r)-p_ie)**2))\n",
    "fig = plt.figure()\n",
    "ax = fig.add_subplot(111)\n",
    "\n",
    "ax.scatter(X,w_1, s=10, c='b', marker=\"o\", label='Labor Supply', alpha=1.0)\n",
    "ax.scatter(X,w_2, s=10, c='r', marker=\"x\", label='Labor Supply 2', alpha=1.0)\n",
    "ax.scatter(X,w_3, s=10, c='g', marker=\"o\", label='Labor Supply 3', alpha=1.0)\n",
    "\n",
    "plt.legend(loc='center right');\n",
    "\n",
    "plt.show()\n"
   ]
  },
  {
   "cell_type": "code",
   "execution_count": null,
   "metadata": {
    "collapsed": true
   },
   "outputs": [],
   "source": [
    "# N = 1000\n",
    "# x = np.random.rand(N)\n",
    "# y_1 = x**2\n",
    "# y_2 = (-x**2)+1\n",
    "# y_3 = np.sqrt(x)\n",
    "# y_4 = -np.sqrt(x)+1\n",
    "# fig = plt.figure()\n",
    "# ax = fig.add_subplot(111)\n",
    " \n",
    "# ax.scatter(x,y_1, s=10, c='b', marker=\"o\", label='Supply',     alpha=1.0)\n",
    "# ax.scatter(x,y_2, s=10, c='r', marker=\"o\", label='Demand',     alpha=1.0)\n",
    "# ax.scatter(x,y_3, s=10, c='g', marker=\"o\", label='Production', alpha=1.0)\n",
    "# ax.scatter(x,y_4, s=10, c='y', marker=\"o\", label='BLAH',       alpha=1.0)\n",
    "# plt.legend(loc='center right');\n",
    " \n",
    " \n",
    "# plt.show()"
   ]
  }
 ],
 "metadata": {
  "kernelspec": {
   "display_name": "Python 3",
   "language": "python",
   "name": "python3"
  },
  "language_info": {
   "codemirror_mode": {
    "name": "ipython",
    "version": 3
   },
   "file_extension": ".py",
   "mimetype": "text/x-python",
   "name": "python",
   "nbconvert_exporter": "python",
   "pygments_lexer": "ipython3",
   "version": "3.5.1"
  }
 },
 "nbformat": 4,
 "nbformat_minor": 0
}
